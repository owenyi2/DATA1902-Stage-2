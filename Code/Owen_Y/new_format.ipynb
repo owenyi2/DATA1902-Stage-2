{
 "cells": [
  {
   "cell_type": "code",
   "execution_count": 1,
   "metadata": {},
   "outputs": [],
   "source": [
    "import pandas as pd\n",
    "\n"
   ]
  },
  {
   "cell_type": "code",
   "execution_count": 7,
   "metadata": {},
   "outputs": [],
   "source": [
    "df = pd.read_csv(\"../../Old Data/Updated Weather Data.csv\", index_col=0, parse_dates=True)"
   ]
  },
  {
   "cell_type": "code",
   "execution_count": 8,
   "metadata": {},
   "outputs": [
    {
     "name": "stdout",
     "output_type": "stream",
     "text": [
      "            Total Rainfall  Rainfall Anomaly  Temperature Anomaly\n",
      "Date                                                             \n",
      "1900-01-01           53.59            -26.67                  NaN\n",
      "1900-02-01           25.42            -51.57                  NaN\n",
      "1900-03-01           69.86              6.87                  NaN\n",
      "1900-04-01           42.40             11.88                  NaN\n",
      "1900-05-01           34.18              5.13                  NaN\n",
      "...                    ...               ...                  ...\n",
      "2023-08-01            9.40             -9.20                 2.29\n",
      "2023-09-01             NaN               NaN                  NaN\n",
      "2023-10-01             NaN               NaN                  NaN\n",
      "2023-11-01             NaN               NaN                  NaN\n",
      "2023-12-01             NaN               NaN                  NaN\n",
      "\n",
      "[1488 rows x 3 columns]\n"
     ]
    }
   ],
   "source": [
    "print(df)"
   ]
  },
  {
   "cell_type": "code",
   "execution_count": 12,
   "metadata": {},
   "outputs": [],
   "source": [
    "new_df = df.resample(\"Q\").sum()\n",
    "new_df[\"Temperature Anomaly\"] = df[\"Temperature Anomaly\"].resample(\"Q\").mean()"
   ]
  },
  {
   "cell_type": "code",
   "execution_count": 13,
   "metadata": {},
   "outputs": [
    {
     "data": {
      "text/html": [
       "<div>\n",
       "<style scoped>\n",
       "    .dataframe tbody tr th:only-of-type {\n",
       "        vertical-align: middle;\n",
       "    }\n",
       "\n",
       "    .dataframe tbody tr th {\n",
       "        vertical-align: top;\n",
       "    }\n",
       "\n",
       "    .dataframe thead th {\n",
       "        text-align: right;\n",
       "    }\n",
       "</style>\n",
       "<table border=\"1\" class=\"dataframe\">\n",
       "  <thead>\n",
       "    <tr style=\"text-align: right;\">\n",
       "      <th></th>\n",
       "      <th>Total Rainfall</th>\n",
       "      <th>Rainfall Anomaly</th>\n",
       "      <th>Temperature Anomaly</th>\n",
       "    </tr>\n",
       "    <tr>\n",
       "      <th>Date</th>\n",
       "      <th></th>\n",
       "      <th></th>\n",
       "      <th></th>\n",
       "    </tr>\n",
       "  </thead>\n",
       "  <tbody>\n",
       "    <tr>\n",
       "      <th>1900-03-31</th>\n",
       "      <td>148.87</td>\n",
       "      <td>-71.37</td>\n",
       "      <td>NaN</td>\n",
       "    </tr>\n",
       "    <tr>\n",
       "      <th>1900-06-30</th>\n",
       "      <td>108.97</td>\n",
       "      <td>26.83</td>\n",
       "      <td>NaN</td>\n",
       "    </tr>\n",
       "    <tr>\n",
       "      <th>1900-09-30</th>\n",
       "      <td>65.22</td>\n",
       "      <td>7.95</td>\n",
       "      <td>NaN</td>\n",
       "    </tr>\n",
       "    <tr>\n",
       "      <th>1900-12-31</th>\n",
       "      <td>52.94</td>\n",
       "      <td>-53.45</td>\n",
       "      <td>NaN</td>\n",
       "    </tr>\n",
       "    <tr>\n",
       "      <th>1901-03-31</th>\n",
       "      <td>224.15</td>\n",
       "      <td>3.91</td>\n",
       "      <td>NaN</td>\n",
       "    </tr>\n",
       "    <tr>\n",
       "      <th>...</th>\n",
       "      <td>...</td>\n",
       "      <td>...</td>\n",
       "      <td>...</td>\n",
       "    </tr>\n",
       "    <tr>\n",
       "      <th>2022-12-31</th>\n",
       "      <td>195.19</td>\n",
       "      <td>88.80</td>\n",
       "      <td>-0.390000</td>\n",
       "    </tr>\n",
       "    <tr>\n",
       "      <th>2023-03-31</th>\n",
       "      <td>257.36</td>\n",
       "      <td>37.12</td>\n",
       "      <td>0.510000</td>\n",
       "    </tr>\n",
       "    <tr>\n",
       "      <th>2023-06-30</th>\n",
       "      <td>78.70</td>\n",
       "      <td>-3.44</td>\n",
       "      <td>0.013333</td>\n",
       "    </tr>\n",
       "    <tr>\n",
       "      <th>2023-09-30</th>\n",
       "      <td>32.02</td>\n",
       "      <td>-8.73</td>\n",
       "      <td>1.740000</td>\n",
       "    </tr>\n",
       "    <tr>\n",
       "      <th>2023-12-31</th>\n",
       "      <td>0.00</td>\n",
       "      <td>0.00</td>\n",
       "      <td>NaN</td>\n",
       "    </tr>\n",
       "  </tbody>\n",
       "</table>\n",
       "<p>496 rows × 3 columns</p>\n",
       "</div>"
      ],
      "text/plain": [
       "            Total Rainfall  Rainfall Anomaly  Temperature Anomaly\n",
       "Date                                                             \n",
       "1900-03-31          148.87            -71.37                  NaN\n",
       "1900-06-30          108.97             26.83                  NaN\n",
       "1900-09-30           65.22              7.95                  NaN\n",
       "1900-12-31           52.94            -53.45                  NaN\n",
       "1901-03-31          224.15              3.91                  NaN\n",
       "...                    ...               ...                  ...\n",
       "2022-12-31          195.19             88.80            -0.390000\n",
       "2023-03-31          257.36             37.12             0.510000\n",
       "2023-06-30           78.70             -3.44             0.013333\n",
       "2023-09-30           32.02             -8.73             1.740000\n",
       "2023-12-31            0.00              0.00                  NaN\n",
       "\n",
       "[496 rows x 3 columns]"
      ]
     },
     "execution_count": 13,
     "metadata": {},
     "output_type": "execute_result"
    }
   ],
   "source": [
    "new_df"
   ]
  }
 ],
 "metadata": {
  "kernelspec": {
   "display_name": "Python 3",
   "language": "python",
   "name": "python3"
  },
  "language_info": {
   "codemirror_mode": {
    "name": "ipython",
    "version": 3
   },
   "file_extension": ".py",
   "mimetype": "text/x-python",
   "name": "python",
   "nbconvert_exporter": "python",
   "pygments_lexer": "ipython3",
   "version": "3.10.4"
  },
  "orig_nbformat": 4
 },
 "nbformat": 4,
 "nbformat_minor": 2
}
