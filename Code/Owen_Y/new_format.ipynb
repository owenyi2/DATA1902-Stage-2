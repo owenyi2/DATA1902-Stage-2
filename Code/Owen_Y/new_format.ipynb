{
 "cells": [
  {
   "cell_type": "code",
   "execution_count": 1,
   "metadata": {},
   "outputs": [],
   "source": [
    "import pandas as pd\n",
    "\n"
   ]
  },
  {
   "cell_type": "code",
   "execution_count": 7,
   "metadata": {},
   "outputs": [],
   "source": [
    "df = pd.read_csv(\"../../Old Data/Updated Weather Data.csv\", index_col=0, parse_dates=True)"
   ]
  },
  {
   "cell_type": "code",
   "execution_count": 8,
   "metadata": {},
   "outputs": [
    {
     "name": "stdout",
     "output_type": "stream",
     "text": [
      "            Total Rainfall  Rainfall Anomaly  Temperature Anomaly\n",
      "Date                                                             \n",
      "1900-01-01           53.59            -26.67                  NaN\n",
      "1900-02-01           25.42            -51.57                  NaN\n",
      "1900-03-01           69.86              6.87                  NaN\n",
      "1900-04-01           42.40             11.88                  NaN\n",
      "1900-05-01           34.18              5.13                  NaN\n",
      "...                    ...               ...                  ...\n",
      "2023-08-01            9.40             -9.20                 2.29\n",
      "2023-09-01             NaN               NaN                  NaN\n",
      "2023-10-01             NaN               NaN                  NaN\n",
      "2023-11-01             NaN               NaN                  NaN\n",
      "2023-12-01             NaN               NaN                  NaN\n",
      "\n",
      "[1488 rows x 3 columns]\n"
     ]
    }
   ],
   "source": [
    "print(df)"
   ]
  },
  {
   "cell_type": "code",
   "execution_count": 12,
   "metadata": {},
   "outputs": [],
   "source": [
    "new_df = df.resample(\"Q\").sum()\n",
    "new_df[\"Temperature Anomaly\"] = df[\"Temperature Anomaly\"].resample(\"Q\").mean()"
   ]
  },
  {
   "cell_type": "code",
   "execution_count": 14,
   "metadata": {},
   "outputs": [],
   "source": [
    "new_df.index = new_df.index.map(lambda t: t.replace(year=t.year, month=t.month, day=1))"
   ]
  },
  {
   "cell_type": "code",
   "execution_count": null,
   "metadata": {},
   "outputs": [],
   "source": []
  },
  {
   "cell_type": "code",
   "execution_count": 15,
   "metadata": {},
   "outputs": [],
   "source": [
    "new_df.to_csv(\"../../Old Data/new Quarterly Weather Data.csv\")"
   ]
  },
  {
   "cell_type": "markdown",
   "metadata": {},
   "source": []
  },
  {
   "cell_type": "code",
   "execution_count": 21,
   "metadata": {},
   "outputs": [
    {
     "name": "stdout",
     "output_type": "stream",
     "text": [
      "            NINO1+2_sst  NINO3_sst  NINO3.4_sst  NINO4_sst      EPAC_mslp  \\\n",
      "time                                                                        \n",
      "1981-09-01    20.128700  24.546180    26.345293  28.269380  101260.770000   \n",
      "1981-12-01    21.445541  24.776001    26.241972  28.249178  101187.728667   \n",
      "1982-03-01    24.827682  26.286994    26.690961  28.012729  101067.774667   \n",
      "1982-06-01    23.677942  27.391082    28.141910  29.069699  101074.503333   \n",
      "1982-09-01    21.954059  26.156844    27.745650  28.791410  101142.854000   \n",
      "...                 ...        ...          ...        ...            ...   \n",
      "2022-09-01    20.303502  24.698625    26.075388  27.711149  101298.233333   \n",
      "2022-12-01    20.726964  24.224007    25.799316  27.627234  101262.421667   \n",
      "2023-03-01    26.370968  26.270952    26.389325  27.703971  101095.426667   \n",
      "2023-06-01    26.891174  27.961941    28.294249  29.124404  101045.550000   \n",
      "2023-09-01    25.126602  27.444845    28.329660  29.513783  101128.880000   \n",
      "\n",
      "                INDO_mslp  \n",
      "time                       \n",
      "1981-09-01  100994.875000  \n",
      "1981-12-01  101002.481333  \n",
      "1982-03-01  101008.335000  \n",
      "1982-06-01  101025.850000  \n",
      "1982-09-01  101107.811333  \n",
      "...                   ...  \n",
      "2022-09-01  100909.041333  \n",
      "2022-12-01  100880.643333  \n",
      "2023-03-01  100933.662000  \n",
      "2023-06-01  100931.143333  \n",
      "2023-09-01  100996.125000  \n",
      "\n",
      "[169 rows x 6 columns]\n"
     ]
    }
   ],
   "source": [
    "df = pd.read_csv(\"../../Old Data/climate_data.csv\", index_col=0, parse_dates=True)\n",
    "df = df.resample(\"Q\").mean()\n",
    "df.index = df.index.map(lambda t: t.replace(year=t.year, month=t.month, day=1))\n",
    "\n",
    "df.to_csv(\"quarterly climate data.csv\")"
   ]
  }
 ],
 "metadata": {
  "kernelspec": {
   "display_name": "Python 3",
   "language": "python",
   "name": "python3"
  },
  "language_info": {
   "codemirror_mode": {
    "name": "ipython",
    "version": 3
   },
   "file_extension": ".py",
   "mimetype": "text/x-python",
   "name": "python",
   "nbconvert_exporter": "python",
   "pygments_lexer": "ipython3",
   "version": "3.10.4"
  },
  "orig_nbformat": 4
 },
 "nbformat": 4,
 "nbformat_minor": 2
}
