{
 "cells": [
  {
   "cell_type": "code",
   "execution_count": 7,
   "metadata": {},
   "outputs": [
    {
     "ename": "ValueError",
     "evalue": "These `markers` levels are missing values: {'Canola'}",
     "output_type": "error",
     "traceback": [
      "\u001b[0;31m---------------------------------------------------------------------------\u001b[0m",
      "\u001b[0;31mValueError\u001b[0m                                Traceback (most recent call last)",
      "\u001b[1;32m/Users/owenyi/Desktop/Code Projects/Python/misc/DATA1902 Stage 2/Code/Owen_Y/4 Attribute Graph [Test Copy].ipynb Cell 1\u001b[0m line \u001b[0;36m2\n\u001b[1;32m     <a href='vscode-notebook-cell:/Users/owenyi/Desktop/Code%20Projects/Python/misc/DATA1902%20Stage%202/Code/Owen_Y/4%20Attribute%20Graph%20%5BTest%20Copy%5D.ipynb#W0sZmlsZQ%3D%3D?line=19'>20</a>\u001b[0m graph_df \u001b[39m=\u001b[39m new_df\u001b[39m.\u001b[39mgroupby([\u001b[39m\"\u001b[39m\u001b[39mDate\u001b[39m\u001b[39m\"\u001b[39m, \u001b[39m\"\u001b[39m\u001b[39mCategory\u001b[39m\u001b[39m\"\u001b[39m])[[\u001b[39m\"\u001b[39m\u001b[39mProduction\u001b[39m\u001b[39m\"\u001b[39m, \u001b[39m\"\u001b[39m\u001b[39mSOI\u001b[39m\u001b[39m\"\u001b[39m, \u001b[39m\"\u001b[39m\u001b[39mTotal Rainfall\u001b[39m\u001b[39m\"\u001b[39m, \u001b[39m\"\u001b[39m\u001b[39mRainfall Anomaly\u001b[39m\u001b[39m\"\u001b[39m, \u001b[39m\"\u001b[39m\u001b[39mTemperature Anomaly\u001b[39m\u001b[39m\"\u001b[39m]]\u001b[39m.\u001b[39mmean()\u001b[39m.\u001b[39mreset_index()\n\u001b[1;32m     <a href='vscode-notebook-cell:/Users/owenyi/Desktop/Code%20Projects/Python/misc/DATA1902%20Stage%202/Code/Owen_Y/4%20Attribute%20Graph%20%5BTest%20Copy%5D.ipynb#W0sZmlsZQ%3D%3D?line=21'>22</a>\u001b[0m plt\u001b[39m.\u001b[39mfigure(figsize \u001b[39m=\u001b[39m (\u001b[39m10\u001b[39m,\u001b[39m7\u001b[39m))\n\u001b[0;32m---> <a href='vscode-notebook-cell:/Users/owenyi/Desktop/Code%20Projects/Python/misc/DATA1902%20Stage%202/Code/Owen_Y/4%20Attribute%20Graph%20%5BTest%20Copy%5D.ipynb#W0sZmlsZQ%3D%3D?line=22'>23</a>\u001b[0m ax \u001b[39m=\u001b[39m sns\u001b[39m.\u001b[39;49mscatterplot(data \u001b[39m=\u001b[39;49m graph_df, x \u001b[39m=\u001b[39;49m \u001b[39m\"\u001b[39;49m\u001b[39mRainfall Anomaly\u001b[39;49m\u001b[39m\"\u001b[39;49m, y \u001b[39m=\u001b[39;49m \u001b[39m\"\u001b[39;49m\u001b[39mProduction\u001b[39;49m\u001b[39m\"\u001b[39;49m, hue \u001b[39m=\u001b[39;49m \u001b[39m\"\u001b[39;49m\u001b[39mSOI\u001b[39;49m\u001b[39m\"\u001b[39;49m, style \u001b[39m=\u001b[39;49m \u001b[39m\"\u001b[39;49m\u001b[39mCategory\u001b[39;49m\u001b[39m\"\u001b[39;49m, palette \u001b[39m=\u001b[39;49m \u001b[39m\"\u001b[39;49m\u001b[39mbwr_r\u001b[39;49m\u001b[39m\"\u001b[39;49m, alpha \u001b[39m=\u001b[39;49m \u001b[39m0.75\u001b[39;49m, s \u001b[39m=\u001b[39;49m \u001b[39m30\u001b[39;49m, markers \u001b[39m=\u001b[39;49m {\u001b[39m\"\u001b[39;49m\u001b[39mBarley\u001b[39;49m\u001b[39m\"\u001b[39;49m:\u001b[39m\"\u001b[39;49m\u001b[39mo\u001b[39;49m\u001b[39m\"\u001b[39;49m, \u001b[39m\"\u001b[39;49m\u001b[39mWheat\u001b[39;49m\u001b[39m\"\u001b[39;49m:\u001b[39m\"\u001b[39;49m\u001b[39m^\u001b[39;49m\u001b[39m\"\u001b[39;49m}, edgecolor\u001b[39m=\u001b[39;49m\u001b[39m\"\u001b[39;49m\u001b[39mgrey\u001b[39;49m\u001b[39m\"\u001b[39;49m)\n\u001b[1;32m     <a href='vscode-notebook-cell:/Users/owenyi/Desktop/Code%20Projects/Python/misc/DATA1902%20Stage%202/Code/Owen_Y/4%20Attribute%20Graph%20%5BTest%20Copy%5D.ipynb#W0sZmlsZQ%3D%3D?line=24'>25</a>\u001b[0m norm \u001b[39m=\u001b[39m plt\u001b[39m.\u001b[39mNormalize(\u001b[39m-\u001b[39mgraph_df[\u001b[39m\"\u001b[39m\u001b[39mSOI\u001b[39m\u001b[39m\"\u001b[39m]\u001b[39m.\u001b[39mmax(), graph_df[\u001b[39m\"\u001b[39m\u001b[39mSOI\u001b[39m\u001b[39m\"\u001b[39m]\u001b[39m.\u001b[39mmax())\n\u001b[1;32m     <a href='vscode-notebook-cell:/Users/owenyi/Desktop/Code%20Projects/Python/misc/DATA1902%20Stage%202/Code/Owen_Y/4%20Attribute%20Graph%20%5BTest%20Copy%5D.ipynb#W0sZmlsZQ%3D%3D?line=25'>26</a>\u001b[0m sm \u001b[39m=\u001b[39m plt\u001b[39m.\u001b[39mcm\u001b[39m.\u001b[39mScalarMappable(cmap \u001b[39m=\u001b[39m \u001b[39m\"\u001b[39m\u001b[39mbwr_r\u001b[39m\u001b[39m\"\u001b[39m, norm \u001b[39m=\u001b[39m norm)\n",
      "File \u001b[0;32m/Library/Frameworks/Python.framework/Versions/3.10/lib/python3.10/site-packages/seaborn/relational.py:611\u001b[0m, in \u001b[0;36mscatterplot\u001b[0;34m(data, x, y, hue, size, style, palette, hue_order, hue_norm, sizes, size_order, size_norm, markers, style_order, legend, ax, **kwargs)\u001b[0m\n\u001b[1;32m    609\u001b[0m p\u001b[39m.\u001b[39mmap_hue(palette\u001b[39m=\u001b[39mpalette, order\u001b[39m=\u001b[39mhue_order, norm\u001b[39m=\u001b[39mhue_norm)\n\u001b[1;32m    610\u001b[0m p\u001b[39m.\u001b[39mmap_size(sizes\u001b[39m=\u001b[39msizes, order\u001b[39m=\u001b[39msize_order, norm\u001b[39m=\u001b[39msize_norm)\n\u001b[0;32m--> 611\u001b[0m p\u001b[39m.\u001b[39;49mmap_style(markers\u001b[39m=\u001b[39;49mmarkers, order\u001b[39m=\u001b[39;49mstyle_order)\n\u001b[1;32m    613\u001b[0m \u001b[39mif\u001b[39;00m ax \u001b[39mis\u001b[39;00m \u001b[39mNone\u001b[39;00m:\n\u001b[1;32m    614\u001b[0m     ax \u001b[39m=\u001b[39m plt\u001b[39m.\u001b[39mgca()\n",
      "File \u001b[0;32m/Library/Frameworks/Python.framework/Versions/3.10/lib/python3.10/site-packages/seaborn/_base.py:846\u001b[0m, in \u001b[0;36mVectorPlotter.map_style\u001b[0;34m(self, markers, dashes, order)\u001b[0m\n\u001b[1;32m    845\u001b[0m \u001b[39mdef\u001b[39;00m \u001b[39mmap_style\u001b[39m(\u001b[39mself\u001b[39m, markers\u001b[39m=\u001b[39m\u001b[39mNone\u001b[39;00m, dashes\u001b[39m=\u001b[39m\u001b[39mNone\u001b[39;00m, order\u001b[39m=\u001b[39m\u001b[39mNone\u001b[39;00m):\n\u001b[0;32m--> 846\u001b[0m     mapping \u001b[39m=\u001b[39m StyleMapping(\u001b[39mself\u001b[39;49m, markers, dashes, order)\n\u001b[1;32m    847\u001b[0m     \u001b[39mself\u001b[39m\u001b[39m.\u001b[39m_style_map \u001b[39m=\u001b[39m mapping\n",
      "File \u001b[0;32m/Library/Frameworks/Python.framework/Versions/3.10/lib/python3.10/site-packages/seaborn/_base.py:546\u001b[0m, in \u001b[0;36mStyleMapping.__init__\u001b[0;34m(self, plotter, markers, dashes, order)\u001b[0m\n\u001b[1;32m    543\u001b[0m \u001b[39m# Find ordered unique values\u001b[39;00m\n\u001b[1;32m    544\u001b[0m levels \u001b[39m=\u001b[39m categorical_order(data, order)\n\u001b[0;32m--> 546\u001b[0m markers \u001b[39m=\u001b[39m \u001b[39mself\u001b[39;49m\u001b[39m.\u001b[39;49m_map_attributes(\n\u001b[1;32m    547\u001b[0m     markers, levels, unique_markers(\u001b[39mlen\u001b[39;49m(levels)), \u001b[39m\"\u001b[39;49m\u001b[39mmarkers\u001b[39;49m\u001b[39m\"\u001b[39;49m,\n\u001b[1;32m    548\u001b[0m )\n\u001b[1;32m    549\u001b[0m dashes \u001b[39m=\u001b[39m \u001b[39mself\u001b[39m\u001b[39m.\u001b[39m_map_attributes(\n\u001b[1;32m    550\u001b[0m     dashes, levels, unique_dashes(\u001b[39mlen\u001b[39m(levels)), \u001b[39m\"\u001b[39m\u001b[39mdashes\u001b[39m\u001b[39m\"\u001b[39m,\n\u001b[1;32m    551\u001b[0m )\n\u001b[1;32m    553\u001b[0m \u001b[39m# Build the paths matplotlib will use to draw the markers\u001b[39;00m\n",
      "File \u001b[0;32m/Library/Frameworks/Python.framework/Versions/3.10/lib/python3.10/site-packages/seaborn/_base.py:599\u001b[0m, in \u001b[0;36mStyleMapping._map_attributes\u001b[0;34m(self, arg, levels, defaults, attr)\u001b[0m\n\u001b[1;32m    597\u001b[0m     \u001b[39mif\u001b[39;00m missing:\n\u001b[1;32m    598\u001b[0m         err \u001b[39m=\u001b[39m \u001b[39mf\u001b[39m\u001b[39m\"\u001b[39m\u001b[39mThese `\u001b[39m\u001b[39m{\u001b[39;00mattr\u001b[39m}\u001b[39;00m\u001b[39m` levels are missing values: \u001b[39m\u001b[39m{\u001b[39;00mmissing\u001b[39m}\u001b[39;00m\u001b[39m\"\u001b[39m\n\u001b[0;32m--> 599\u001b[0m         \u001b[39mraise\u001b[39;00m \u001b[39mValueError\u001b[39;00m(err)\n\u001b[1;32m    600\u001b[0m     lookup_table \u001b[39m=\u001b[39m arg\n\u001b[1;32m    601\u001b[0m \u001b[39melif\u001b[39;00m \u001b[39misinstance\u001b[39m(arg, Sequence):\n",
      "\u001b[0;31mValueError\u001b[0m: These `markers` levels are missing values: {'Canola'}"
     ]
    },
    {
     "data": {
      "text/plain": [
       "<Figure size 1000x700 with 0 Axes>"
      ]
     },
     "metadata": {},
     "output_type": "display_data"
    }
   ],
   "source": [
    "import pandas as pd\n",
    "import numpy as np\n",
    "import matplotlib.pyplot as plt\n",
    "import seaborn as sns\n",
    "\n",
    "merge_df = pd.read_csv(\"../../Data/Merged Data.csv\")\n",
    "weather_df = pd.read_csv(\"../../Data/Quarterly Weather Data.csv\")\n",
    "soi_df = pd.read_csv(\"SOI_ONI_ENSO.csv\")\n",
    "\n",
    "soi_df[\"Date\"] = pd.to_datetime(soi_df[\"Date\"])\n",
    "\n",
    "merge_df[\"Date\"] = pd.to_datetime(merge_df[\"Date\"])\n",
    "merge_df = merge_df.loc[:,[\"Date\",\"ABARES: Barley - Production ($M)\",\"ABARES: Canola - Production ($M)\",\"ABARES: Wheat - Production ($M)\"]].rename(columns={\"ABARES: Barley - Production ($M)\":\"Barley\",\"ABARES: Canola - Production ($M)\":\"Canola\",\"ABARES: Wheat - Production ($M)\":\"Wheat\"})\n",
    "merge_df = merge_df.melt(id_vars = \"Date\", value_vars = merge_df.columns[1:], value_name = \"Production\", var_name = \"Category\")\n",
    "\n",
    "weather_df[\"Date\"] = pd.to_datetime(weather_df[\"Date\"])\n",
    "\n",
    "new_df = merge_df.merge(soi_df, on = \"Date\", how = \"left\").merge(weather_df, on = \"Date\", how = \"left\")\n",
    "new_df[\"Date\"] = new_df[\"Date\"].dt.year\n",
    "graph_df = new_df.groupby([\"Date\", \"Category\"])[[\"Production\", \"SOI\", \"Total Rainfall\", \"Rainfall Anomaly\", \"Temperature Anomaly\"]].mean().reset_index()\n",
    "\n",
    "plt.figure(figsize = (10,7))\n",
    "ax = sns.scatterplot(data = graph_df, x = \"Rainfall Anomaly\", y = \"Production\", hue = \"SOI\", style = \"Category\", palette = \"bwr_r\", alpha = 0.75, s = 30, markers = {\"Barley\":\"o\", \"Canola\":\"s\", \"Wheat\":\"^\"}, edgecolor=\"grey\")\n",
    "\n",
    "norm = plt.Normalize(-graph_df[\"SOI\"].max(), graph_df[\"SOI\"].max())\n",
    "sm = plt.cm.ScalarMappable(cmap = \"bwr_r\", norm = norm)\n",
    "sm.set_array([])\n",
    "\n",
    "h,l = ax.get_legend_handles_labels()\n",
    "plt.legend(h[-4:],l[-4:], loc=1, borderaxespad=0.5)\n",
    "colourbar = ax.figure.colorbar(sm, ax = ax)\n",
    "colourbar.set_label(\"SOI\")\n",
    "\n",
    "plt.show()"
   ]
  }
 ],
 "metadata": {
  "kernelspec": {
   "display_name": "base",
   "language": "python",
   "name": "python3"
  },
  "language_info": {
   "codemirror_mode": {
    "name": "ipython",
    "version": 3
   },
   "file_extension": ".py",
   "mimetype": "text/x-python",
   "name": "python",
   "nbconvert_exporter": "python",
   "pygments_lexer": "ipython3",
   "version": "3.10.4"
  },
  "orig_nbformat": 4
 },
 "nbformat": 4,
 "nbformat_minor": 2
}
