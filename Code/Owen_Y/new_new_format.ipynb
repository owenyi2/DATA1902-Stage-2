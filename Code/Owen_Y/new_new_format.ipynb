{
 "cells": [
  {
   "cell_type": "code",
   "execution_count": 21,
   "metadata": {},
   "outputs": [],
   "source": [
    "import pandas as pd\n",
    "\n",
    "year = []\n",
    "data = []\n",
    "\n",
    "with open(\"../../Old Data/yearly_anomaly_rainfall.txt\", \"r\") as f:\n",
    "    file_content = f.read()\n",
    "    for line in file_content.split(\"\\n\"):\n",
    "        if line == \"\":\n",
    "            continue\n",
    "        year.append(line.split(\" \")[0][:4])\n",
    "        data.append(line.split(\" \")[1])\n",
    "\n",
    "df1 = pd.DataFrame(data = {\"year\": year, \"Rainfall Anomaly\": data})\n",
    "\n",
    "year = []\n",
    "data = []\n",
    "\n",
    "with open(\"../../Old Data/yearly_total_rainfall.txt\", \"r\") as f:\n",
    "    file_content = f.read()\n",
    "    for line in file_content.split(\"\\n\"):\n",
    "        if line == \"\":\n",
    "            continue\n",
    "        year.append(line.split(\" \")[0][:4])\n",
    "        data.append(line.split(\" \")[1])\n",
    "\n",
    "df2 = pd.DataFrame(data = {\"year\": year, \"Total Rainfall\": data})\n",
    "\n",
    "year = []\n",
    "data = []\n",
    "\n",
    "with open(\"../../Old Data/yearly_mean_anomaly_temperature.txt\", \"r\") as f:\n",
    "    file_content = f.read()\n",
    "    for line in file_content.split(\"\\n\"):\n",
    "        if line == \"\":\n",
    "            continue\n",
    "        year.append(line.split(\" \")[0][:4])\n",
    "        data.append(line.split(\" \")[1])\n",
    "\n",
    "df3 = pd.DataFrame(data = {\"year\": year, \"Mean Temperature Anomaly\": data})\n",
    "\n",
    "\n"
   ]
  },
  {
   "cell_type": "code",
   "execution_count": 23,
   "metadata": {},
   "outputs": [
    {
     "name": "stdout",
     "output_type": "stream",
     "text": [
      "     year Rainfall Anomaly Total Rainfall Mean Temperature Anomaly\n",
      "0    1900           -90.04         376.00                      NaN\n",
      "1    1901           -61.12         404.92                      NaN\n",
      "2    1902          -146.51         319.52                      NaN\n",
      "3    1903            54.24         520.28                      NaN\n",
      "4    1904            39.79         505.83                      NaN\n",
      "..    ...              ...            ...                      ...\n",
      "118  2018           -60.19         405.85                     1.11\n",
      "119  2019          -190.32         275.71                     1.50\n",
      "120  2020            20.56         486.59                     1.13\n",
      "121  2021            41.71         507.74                     0.56\n",
      "122  2022           123.18         589.22                     0.50\n",
      "\n",
      "[123 rows x 4 columns]\n"
     ]
    }
   ],
   "source": [
    "df = df1.merge(df2, on=\"year\", how = \"left\").merge(df3, on=\"year\", how = \"left\")\n",
    "print(df)\n",
    "df.to_csv(\"Yearly Data\")\n"
   ]
  }
 ],
 "metadata": {
  "kernelspec": {
   "display_name": "Python 3",
   "language": "python",
   "name": "python3"
  },
  "language_info": {
   "codemirror_mode": {
    "name": "ipython",
    "version": 3
   },
   "file_extension": ".py",
   "mimetype": "text/x-python",
   "name": "python",
   "nbconvert_exporter": "python",
   "pygments_lexer": "ipython3",
   "version": "3.10.4"
  },
  "orig_nbformat": 4
 },
 "nbformat": 4,
 "nbformat_minor": 2
}
